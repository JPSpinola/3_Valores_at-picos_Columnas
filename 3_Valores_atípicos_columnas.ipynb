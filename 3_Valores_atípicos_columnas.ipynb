{
  "nbformat": 4,
  "nbformat_minor": 0,
  "metadata": {
    "colab": {
      "provenance": [],
      "authorship_tag": "ABX9TyMgmxYWSpTc8QisceWqC3pb",
      "include_colab_link": true
    },
    "kernelspec": {
      "name": "python3",
      "display_name": "Python 3"
    },
    "language_info": {
      "name": "python"
    }
  },
  "cells": [
    {
      "cell_type": "markdown",
      "metadata": {
        "id": "view-in-github",
        "colab_type": "text"
      },
      "source": [
        "<a href=\"https://colab.research.google.com/github/JPSpinola/3_Valores_at-picos_Columnas/blob/main/3_Valores_at%C3%ADpicos_columnas.ipynb\" target=\"_parent\"><img src=\"https://colab.research.google.com/assets/colab-badge.svg\" alt=\"Open In Colab\"/></a>"
      ]
    },
    {
      "cell_type": "code",
      "execution_count": null,
      "metadata": {
        "id": "b1mCd-Guu20m"
      },
      "outputs": [],
      "source": [
        "#Importamos librerias\n",
        "import pandas as pd\n",
        "import numpy as np\n",
        "import matplotlib.pyplot as plt"
      ]
    },
    {
      "cell_type": "code",
      "source": [
        "#Cargar archivo csv desde equipo\n",
        "from google.colab import files\n",
        "files.upload()"
      ],
      "metadata": {
        "id": "ZW4jnEdOv6EQ"
      },
      "execution_count": null,
      "outputs": []
    },
    {
      "cell_type": "code",
      "source": [
        "#Carga desde un archivo .csv sin índice\n",
        "data = pd.read_csv('Inmuebles_sin_nulos.csv')\n",
        "data.head(10)"
      ],
      "metadata": {
        "id": "nMw4op9cwB-I"
      },
      "execution_count": null,
      "outputs": []
    },
    {
      "cell_type": "code",
      "source": [
        "#Corroboramos valores nulos\n",
        "valores_nulos=data.isnull().sum()\n",
        "valores_nulos"
      ],
      "metadata": {
        "id": "j-PqdSxmyHuu"
      },
      "execution_count": null,
      "outputs": []
    },
    {
      "cell_type": "code",
      "source": [
        "#Realizamos histograma de variables cuantitativas\n",
        "fig = plt.figure(figsize =(5,3))\n",
        "plt.hist(x=data[\"Precio Venta\"], color='blue', rwidth=0.80)\n",
        "plt.title('Histograma de Precio de ventas')\n",
        "plt.xlabel('Precio Venta')\n",
        "plt.ylabel('Frecuencia')\n",
        "\n",
        "plt.show() #Dibujamos el histograma"
      ],
      "metadata": {
        "id": "pgPWv4rVyrWI"
      },
      "execution_count": null,
      "outputs": []
    },
    {
      "cell_type": "code",
      "source": [
        "#Realizamos diagrama de caja o bigote\n",
        "fig = plt.figure(figsize =(10,6))\n",
        "plt.boxplot(data[\"Precio Venta\"])\n",
        "plt.title(\"Outliers de Precio Venta\")\n",
        "plt.show() #Dibujamos el diagrama"
      ],
      "metadata": {
        "id": "gfzD4f1i0G0Y"
      },
      "execution_count": null,
      "outputs": []
    },
    {
      "cell_type": "markdown",
      "source": [
        "**MÉTODO DE DESVIACIÓN ESTÁNDAR**"
      ],
      "metadata": {
        "id": "7h0WTD9z1lOx"
      }
    },
    {
      "cell_type": "code",
      "source": [
        "#Método aplicando desviación estándar. Encontrar los valores extremos\n",
        "y=data[\"Precio Venta\"]\n",
        "Limite_Superior= y.mean() + 3*y.std()\n",
        "Limite_Inferior= y.mean() - 3*y.std()\n",
        "print(\"Limite superior permitido\", Limite_Superior)\n",
        "print(\"Limite inferior permitido\", Limite_Inferior)"
      ],
      "metadata": {
        "id": "snq6gy9o1p3h"
      },
      "execution_count": null,
      "outputs": []
    },
    {
      "cell_type": "code",
      "source": [
        "#Encontramos Outliers\n",
        "outliers = data[(y>Limite_Superior)|(y<Limite_Inferior)]\n",
        "outliers"
      ],
      "metadata": {
        "id": "kwxqAu-J2wR4"
      },
      "execution_count": null,
      "outputs": []
    },
    {
      "cell_type": "code",
      "source": [
        "#Obtenemos datos limpios\n",
        "data_clean = data[(y<=Limite_Superior)&(y>=Limite_Inferior)]\n",
        "data_clean"
      ],
      "metadata": {
        "id": "SBPH5uHz3c6b"
      },
      "execution_count": null,
      "outputs": []
    },
    {
      "cell_type": "code",
      "source": [
        "#Realizamos diagrama de cajo o bigote\n",
        "fig = plt.figure(figsize =(10,6))\n",
        "plt.boxplot(data_clean[\"Precio Venta\"])\n",
        "plt.title(\"Outliers de Precio Venta\")\n",
        "plt.show() #Dibujamos el diagrama"
      ],
      "metadata": {
        "id": "ueATtf9i4Oqh"
      },
      "execution_count": null,
      "outputs": []
    },
    {
      "cell_type": "markdown",
      "source": [
        "**MÉTODO DE IQR (RANGO INTER QUARTILICO**"
      ],
      "metadata": {
        "id": "eDbedua25jn3"
      }
    },
    {
      "cell_type": "code",
      "source": [
        "#Método aplicando Cuartiles. Encuentro cuartiles 0.25 y 0.75\n",
        "y=data[\"Precio Venta\"]\n",
        "\n",
        "percentile25=y.quantile(0.25) #Q1\n",
        "percentile75=y.quantile(0.75) #Q3\n",
        "iqr= percentile75 - percentile25\n",
        "\n",
        "Limite_Superior_iqr= percentile75 + 1.5*iqr\n",
        "Limite_Inferior_iqr= percentile25 - 1.5*iqr\n",
        "print(\"Limite superior permitido\", Limite_Superior_iqr)\n",
        "print(\"Limite Inferior permitido\", Limite_Inferior_iqr)"
      ],
      "metadata": {
        "id": "PwX9EP675iqy"
      },
      "execution_count": null,
      "outputs": []
    },
    {
      "cell_type": "code",
      "source": [
        "#Encontramos Outliers\n",
        "outliers_iqr = data[(y>Limite_Superior_iqr)|(y<Limite_Inferior_iqr)]\n",
        "outliers_iqr"
      ],
      "metadata": {
        "id": "cPw1-5Hh6w1n"
      },
      "execution_count": null,
      "outputs": []
    },
    {
      "cell_type": "code",
      "source": [
        "#Obtenemos datos limpios\n",
        "data_clean_iqr = data[(y<=Limite_Superior_iqr)&(y>=Limite_Inferior_iqr)]\n",
        "data_clean_iqr"
      ],
      "metadata": {
        "id": "kP2za0S17Fvs"
      },
      "execution_count": null,
      "outputs": []
    },
    {
      "cell_type": "code",
      "source": [
        "#Realizamos diagrama de cajo o bigote\n",
        "fig = plt.figure(figsize =(10,6))\n",
        "plt.boxplot(data_clean_iqr[\"Precio Venta\"])\n",
        "plt.title(\"Outliers de Precio Venta\")\n",
        "plt.show() #Dibujamos el diagrama"
      ],
      "metadata": {
        "id": "fTn8qG3f7Oi8"
      },
      "execution_count": null,
      "outputs": []
    }
  ]
}